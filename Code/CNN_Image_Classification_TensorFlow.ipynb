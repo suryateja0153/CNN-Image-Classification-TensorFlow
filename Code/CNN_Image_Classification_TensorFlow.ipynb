{
 "cells": [
  {
   "cell_type": "markdown",
   "metadata": {},
   "source": [
    "<h1 style=\"color:green;\">CNN_Image_Classification_TensorFlow</h1>"
   ]
  },
  {
   "cell_type": "markdown",
   "metadata": {},
   "source": [
    "<h3 style=\"color:blue;\">We will predict the category of a fruit image.</h3>"
   ]
  },
  {
   "cell_type": "markdown",
   "metadata": {},
   "source": [
    "<p>\n",
    "<strong>\n",
    "1. Make the code work (while the code was provided, each of those notebooks have packages that may need to be installed to get the code to work).\n",
    "</strong>\n",
    "</p>"
   ]
  },
  {
   "cell_type": "code",
   "execution_count": 1,
   "metadata": {},
   "outputs": [],
   "source": [
    "# Import libraries\n",
    "from __future__ import print_function\n",
    "import keras\n",
    "import numpy as np\n",
    "import tensorflow as tf\n",
    "import matplotlib.pyplot as plt\n",
    "from keras.models import Sequential\n",
    "from keras.layers import Dense, Dropout, Activation, Flatten\n",
    "from keras.layers import Conv2D, MaxPooling2D\n",
    "from keras.preprocessing.image import ImageDataGenerator, img_to_array, load_img\n",
    "from PIL import Image\n",
    "from glob import glob\n",
    "import os"
   ]
  },
  {
   "cell_type": "code",
   "execution_count": 2,
   "metadata": {},
   "outputs": [],
   "source": [
    "# Use ImageDataGenerator to feed image files from directories\n",
    "train_datagen = ImageDataGenerator(rescale=1./255)"
   ]
  },
  {
   "cell_type": "code",
   "execution_count": 3,
   "metadata": {},
   "outputs": [],
   "source": [
    "valid_datagen = ImageDataGenerator(rescale=1./255)"
   ]
  },
  {
   "cell_type": "code",
   "execution_count": 4,
   "metadata": {},
   "outputs": [
    {
     "name": "stdout",
     "output_type": "stream",
     "text": [
      "Found 12642 images belonging to 25 classes.\n"
     ]
    }
   ],
   "source": [
    "# Create a training data generator to feed training images from directories\n",
    "train_generator = train_datagen.flow_from_directory(\n",
    "    directory=\"FRUITS/Training32\",\n",
    "    target_size=(32, 32),\n",
    "    color_mode=\"rgb\",\n",
    "    batch_size=128,\n",
    "    class_mode=\"categorical\",\n",
    "    shuffle=True,\n",
    "    seed=42\n",
    ")"
   ]
  },
  {
   "cell_type": "code",
   "execution_count": 5,
   "metadata": {},
   "outputs": [
    {
     "name": "stdout",
     "output_type": "stream",
     "text": [
      "Found 4232 images belonging to 25 classes.\n"
     ]
    }
   ],
   "source": [
    "valid_generator = valid_datagen.flow_from_directory(\n",
    "    directory=\"FRUITS/Test32\",\n",
    "    target_size=(32, 32),\n",
    "    color_mode=\"rgb\",\n",
    "    batch_size=128,\n",
    "    class_mode=\"categorical\",\n",
    "    shuffle=True,\n",
    "    seed=42\n",
    ")"
   ]
  },
  {
   "cell_type": "code",
   "execution_count": 6,
   "metadata": {},
   "outputs": [
    {
     "name": "stdout",
     "output_type": "stream",
     "text": [
      "Model: \"sequential\"\n",
      "_________________________________________________________________\n",
      " Layer (type)                Output Shape              Param #   \n",
      "=================================================================\n",
      " conv2d (Conv2D)             (None, 32, 32, 32)        896       \n",
      "                                                                 \n",
      " activation (Activation)     (None, 32, 32, 32)        0         \n",
      "                                                                 \n",
      " conv2d_1 (Conv2D)           (None, 30, 30, 32)        9248      \n",
      "                                                                 \n",
      " activation_1 (Activation)   (None, 30, 30, 32)        0         \n",
      "                                                                 \n",
      " max_pooling2d (MaxPooling2D  (None, 15, 15, 32)       0         \n",
      " )                                                               \n",
      "                                                                 \n",
      " dropout (Dropout)           (None, 15, 15, 32)        0         \n",
      "                                                                 \n",
      " conv2d_2 (Conv2D)           (None, 15, 15, 64)        18496     \n",
      "                                                                 \n",
      " activation_2 (Activation)   (None, 15, 15, 64)        0         \n",
      "                                                                 \n",
      " conv2d_3 (Conv2D)           (None, 13, 13, 64)        36928     \n",
      "                                                                 \n",
      " activation_3 (Activation)   (None, 13, 13, 64)        0         \n",
      "                                                                 \n",
      " max_pooling2d_1 (MaxPooling  (None, 6, 6, 64)         0         \n",
      " 2D)                                                             \n",
      "                                                                 \n",
      " dropout_1 (Dropout)         (None, 6, 6, 64)          0         \n",
      "                                                                 \n",
      " flatten (Flatten)           (None, 2304)              0         \n",
      "                                                                 \n",
      " dense (Dense)               (None, 512)               1180160   \n",
      "                                                                 \n",
      " activation_4 (Activation)   (None, 512)               0         \n",
      "                                                                 \n",
      " dropout_2 (Dropout)         (None, 512)               0         \n",
      "                                                                 \n",
      " dense_1 (Dense)             (None, 25)                12825     \n",
      "                                                                 \n",
      " activation_5 (Activation)   (None, 25)                0         \n",
      "                                                                 \n",
      "=================================================================\n",
      "Total params: 1,258,553\n",
      "Trainable params: 1,258,553\n",
      "Non-trainable params: 0\n",
      "_________________________________________________________________\n"
     ]
    }
   ],
   "source": [
    "# Model Architecture\n",
    "model = Sequential()\n",
    "\n",
    "model.add(Conv2D(32, (3, 3), padding='same', input_shape=(32,32,3)))\n",
    "model.add(Activation('relu'))\n",
    "\n",
    "model.add(Conv2D(32, (3, 3)))\n",
    "model.add(Activation('relu'))\n",
    "\n",
    "model.add(MaxPooling2D(pool_size=(2, 2)))\n",
    "model.add(Dropout(rate=0.25))\n",
    "\n",
    "model.add(Conv2D(64, (3, 3), padding='same'))\n",
    "model.add(Activation('relu'))\n",
    "\n",
    "model.add(Conv2D(64, (3, 3)))\n",
    "model.add(Activation('relu'))\n",
    "\n",
    "model.add(MaxPooling2D(pool_size=(2, 2)))\n",
    "model.add(Dropout(rate=0.25))\n",
    "\n",
    "model.add(Flatten())\n",
    "\n",
    "model.add(Dense(512))\n",
    "model.add(Activation('relu'))\n",
    "model.add(Dropout(rate=0.5))\n",
    "\n",
    "model.add(Dense(25))\n",
    "model.add(Activation('softmax'))\n",
    "\n",
    "model.summary()\n",
    "\n",
    "# initiate adam optimizer\n",
    "opt = tf.keras.optimizers.Adam(learning_rate=0.0001)\n",
    "\n",
    "# Let's train the model using adam\n",
    "model.compile(loss='categorical_crossentropy',\n",
    "              optimizer=opt,\n",
    "              metrics=['accuracy'])"
   ]
  },
  {
   "cell_type": "code",
   "execution_count": 7,
   "metadata": {},
   "outputs": [
    {
     "name": "stdout",
     "output_type": "stream",
     "text": [
      "Epoch 1/5\n",
      "25/25 [==============================] - 12s 453ms/step - loss: 3.1811 - accuracy: 0.0659 - val_loss: 3.1210 - val_accuracy: 0.0803\n",
      "Epoch 2/5\n",
      "25/25 [==============================] - 9s 368ms/step - loss: 3.0104 - accuracy: 0.1274 - val_loss: 2.7670 - val_accuracy: 0.2853\n",
      "Epoch 3/5\n",
      "25/25 [==============================] - 6s 260ms/step - loss: 2.4749 - accuracy: 0.2883 - val_loss: 1.9281 - val_accuracy: 0.5147\n",
      "Epoch 4/5\n",
      "25/25 [==============================] - 6s 254ms/step - loss: 1.8229 - accuracy: 0.4319 - val_loss: 1.3948 - val_accuracy: 0.5772\n",
      "Epoch 5/5\n",
      "25/25 [==============================] - 6s 236ms/step - loss: 1.4376 - accuracy: 0.5404 - val_loss: 1.1134 - val_accuracy: 0.6837\n"
     ]
    }
   ],
   "source": [
    "# Model fit\n",
    "hist = model.fit(\n",
    "        train_generator,\n",
    "        steps_per_epoch=25,\n",
    "        epochs=5,\n",
    "        validation_data=valid_generator,\n",
    "        validation_steps=25)"
   ]
  },
  {
   "cell_type": "code",
   "execution_count": 8,
   "metadata": {},
   "outputs": [
    {
     "data": {
      "image/png": "[encoded data removed]",
      "text/plain": [
       "<Figure size 432x288 with 1 Axes>"
      ]
     },
     "metadata": {
      "needs_background": "light"
     },
     "output_type": "display_data"
    }
   ],
   "source": [
    "# Displaying the selected image\n",
    "img = load_img(\"FRUITS/Test32/Apple Braeburn/3_100.jpg\", target_size=(32,32))\n",
    "plt.imshow(img)\n",
    "plt.axis(\"off\")\n",
    "plt.show()\n",
    "\n",
    "# Loading the image \n",
    "def load(filename):\n",
    "    np_image = Image.open(filename)\n",
    "    np_image = np.array(np_image).astype('float32')/255\n",
    "    np_image = np.expand_dims(np_image, axis=0)\n",
    "    return np_image\n",
    "\n",
    "image = load(\"FRUITS/Test32/Apple Braeburn/3_100.jpg\")"
   ]
  },
  {
   "cell_type": "code",
   "execution_count": 9,
   "metadata": {},
   "outputs": [
    {
     "name": "stdout",
     "output_type": "stream",
     "text": [
      "[0]\n"
     ]
    }
   ],
   "source": [
    "# Predicting the class\n",
    "prediction = (np.argmax(model.predict(image), axis=-1))\n",
    "print(prediction)"
   ]
  },
  {
   "cell_type": "code",
   "execution_count": 10,
   "metadata": {},
   "outputs": [
    {
     "data": {
      "text/plain": [
       "{'Apple Braeburn': 0,\n",
       " 'Apple Golden 1': 1,\n",
       " 'Apple Golden 2': 2,\n",
       " 'Apple Golden 3': 3,\n",
       " 'Apple Granny Smith': 4,\n",
       " 'Apple Red 1': 5,\n",
       " 'Apple Red 2': 6,\n",
       " 'Apple Red 3': 7,\n",
       " 'Apple Red Delicious': 8,\n",
       " 'Apple Red Yellow': 9,\n",
       " 'Apricot': 10,\n",
       " 'Avocado': 11,\n",
       " 'Avocado ripe': 12,\n",
       " 'Banana': 13,\n",
       " 'Banana Red': 14,\n",
       " 'Cactus fruit': 15,\n",
       " 'Cantaloupe 1': 16,\n",
       " 'Cantaloupe 2': 17,\n",
       " 'Carambula': 18,\n",
       " 'Cherry 1': 19,\n",
       " 'Cherry 2': 20,\n",
       " 'Cherry Rainier': 21,\n",
       " 'Cherry Wax Black': 22,\n",
       " 'Cherry Wax Red': 23,\n",
       " 'Cherry Wax Yellow': 24}"
      ]
     },
     "execution_count": 10,
     "metadata": {},
     "output_type": "execute_result"
    }
   ],
   "source": [
    "# Printing class dictionary\n",
    "label_mapper = (valid_generator.class_indices)\n",
    "label_mapper"
   ]
  },
  {
   "cell_type": "code",
   "execution_count": 11,
   "metadata": {},
   "outputs": [
    {
     "data": {
      "image/png": "[encoded data removed]",
      "text/plain": [
       "<Figure size 432x288 with 1 Axes>"
      ]
     },
     "metadata": {
      "needs_background": "light"
     },
     "output_type": "display_data"
    },
    {
     "data": {
      "image/png": "[encoded data removed]",
      "text/plain": [
       "<Figure size 432x288 with 1 Axes>"
      ]
     },
     "metadata": {
      "needs_background": "light"
     },
     "output_type": "display_data"
    }
   ],
   "source": [
    "# Summarize history for accuracy\n",
    "plt.plot(hist.history['accuracy'], label='train')\n",
    "plt.plot(hist.history['val_accuracy'], label='test')\n",
    "plt.title('model accuracy')\n",
    "plt.ylabel('accuracy')\n",
    "plt.xlabel('epoch')\n",
    "plt.legend()\n",
    "# # Save the accuracy plot\n",
    "#plt.savefig(\"CNN_model_2-acc.png\")\n",
    "plt.show() # Display  the plot\n",
    "\n",
    "# Summarize history for accuracy\n",
    "plt.plot(hist.history['loss'], label='train')\n",
    "plt.plot(hist.history['val_loss'], label='test')\n",
    "plt.title('model loss')\n",
    "plt.ylabel('loss')\n",
    "plt.xlabel('epoch')\n",
    "plt.legend()\n",
    "# # Save the accuracy plot\n",
    "# plt.savefig(\"CNN_model_2-acc.png\")\n",
    "plt.show() # Display  the plot"
   ]
  },
  {
   "cell_type": "markdown",
   "metadata": {
    "collapsed": true
   },
   "source": [
    "<p>\n",
    "<strong>\n",
    "2. Make any change in the code that makes sense and run it again. Explain the change you are making, how exactly the code needs to be modified for the change, and then interpret the results you got after the change. The \"change\" itself could mean a few things (a) possibly using a different dataset to see what happens (b) keeping the same dataset but creating a significantly different architecture (\"significantly\" here means simply changing the size (neurons) of one layer for example wouldn't count).\n",
    "</strong>\n",
    "</p>"
   ]
  },
  {
   "cell_type": "markdown",
   "metadata": {},
   "source": [
    "<p>\n",
    "<b> Data Source: </b> https://www.kaggle.com/moltean/fruits\n",
    "</p>"
   ]
  },
  {
   "cell_type": "code",
   "execution_count": 12,
   "metadata": {},
   "outputs": [],
   "source": [
    "# Use ImageDataGenerator to feed image files from directories\n",
    "train_datagen = ImageDataGenerator(rescale=1./255)"
   ]
  },
  {
   "cell_type": "code",
   "execution_count": 13,
   "metadata": {},
   "outputs": [],
   "source": [
    "test_datagen = ImageDataGenerator(rescale=1./255)"
   ]
  },
  {
   "cell_type": "code",
   "execution_count": 14,
   "metadata": {},
   "outputs": [
    {
     "name": "stdout",
     "output_type": "stream",
     "text": [
      "Found 67692 images belonging to 131 classes.\n"
     ]
    }
   ],
   "source": [
    "# Create a training data generator to feed training images from directories\n",
    "train_generator = train_datagen.flow_from_directory(\n",
    "    directory=\"fruits360/Training\",\n",
    "    target_size=(100, 100),\n",
    "    color_mode=\"rgb\",\n",
    "    batch_size=128,\n",
    "    class_mode=\"categorical\",\n",
    "    shuffle=True,\n",
    "    seed=42\n",
    ")"
   ]
  },
  {
   "cell_type": "code",
   "execution_count": 15,
   "metadata": {},
   "outputs": [
    {
     "name": "stdout",
     "output_type": "stream",
     "text": [
      "Found 22688 images belonging to 131 classes.\n"
     ]
    }
   ],
   "source": [
    "test_generator = test_datagen.flow_from_directory(\n",
    "    directory=\"fruits360/Test\",\n",
    "    target_size=(100, 100),\n",
    "    color_mode=\"rgb\",\n",
    "    batch_size=128,\n",
    "    class_mode=\"categorical\",\n",
    "    shuffle=True,\n",
    "    seed=42\n",
    ")"
   ]
  },
  {
   "cell_type": "markdown",
   "metadata": {},
   "source": [
    "<p>\n",
    "<strong>\n",
    "Adam Optimizer\n",
    "</strong>\n",
    "</p>"
   ]
  },
  {
   "cell_type": "code",
   "execution_count": 16,
   "metadata": {},
   "outputs": [
    {
     "name": "stdout",
     "output_type": "stream",
     "text": [
      "Model: \"sequential_1\"\n",
      "_________________________________________________________________\n",
      " Layer (type)                Output Shape              Param #   \n",
      "=================================================================\n",
      " conv2d_4 (Conv2D)           (None, 100, 100, 32)      896       \n",
      "                                                                 \n",
      " activation_6 (Activation)   (None, 100, 100, 32)      0         \n",
      "                                                                 \n",
      " conv2d_5 (Conv2D)           (None, 98, 98, 32)        9248      \n",
      "                                                                 \n",
      " activation_7 (Activation)   (None, 98, 98, 32)        0         \n",
      "                                                                 \n",
      " max_pooling2d_2 (MaxPooling  (None, 49, 49, 32)       0         \n",
      " 2D)                                                             \n",
      "                                                                 \n",
      " dropout_3 (Dropout)         (None, 49, 49, 32)        0         \n",
      "                                                                 \n",
      " conv2d_6 (Conv2D)           (None, 49, 49, 64)        18496     \n",
      "                                                                 \n",
      " activation_8 (Activation)   (None, 49, 49, 64)        0         \n",
      "                                                                 \n",
      " conv2d_7 (Conv2D)           (None, 47, 47, 64)        36928     \n",
      "                                                                 \n",
      " activation_9 (Activation)   (None, 47, 47, 64)        0         \n",
      "                                                                 \n",
      " max_pooling2d_3 (MaxPooling  (None, 23, 23, 64)       0         \n",
      " 2D)                                                             \n",
      "                                                                 \n",
      " dropout_4 (Dropout)         (None, 23, 23, 64)        0         \n",
      "                                                                 \n",
      " flatten_1 (Flatten)         (None, 33856)             0         \n",
      "                                                                 \n",
      " dense_2 (Dense)             (None, 512)               17334784  \n",
      "                                                                 \n",
      " activation_10 (Activation)  (None, 512)               0         \n",
      "                                                                 \n",
      " dropout_5 (Dropout)         (None, 512)               0         \n",
      "                                                                 \n",
      " dense_3 (Dense)             (None, 131)               67203     \n",
      "                                                                 \n",
      " activation_11 (Activation)  (None, 131)               0         \n",
      "                                                                 \n",
      "=================================================================\n",
      "Total params: 17,467,555\n",
      "Trainable params: 17,467,555\n",
      "Non-trainable params: 0\n",
      "_________________________________________________________________\n"
     ]
    }
   ],
   "source": [
    "# Model Architecture\n",
    "model = Sequential()\n",
    "\n",
    "model.add(Conv2D(32, (3, 3), padding='same', input_shape=(100,100,3)))\n",
    "model.add(Activation('relu'))\n",
    "\n",
    "model.add(Conv2D(32, (3, 3)))\n",
    "model.add(Activation('relu'))\n",
    "\n",
    "model.add(MaxPooling2D(pool_size=(2, 2)))\n",
    "model.add(Dropout(rate=0.25))\n",
    "\n",
    "model.add(Conv2D(64, (3, 3), padding='same'))\n",
    "model.add(Activation('relu'))\n",
    "\n",
    "model.add(Conv2D(64, (3, 3)))\n",
    "model.add(Activation('relu'))\n",
    "\n",
    "model.add(MaxPooling2D(pool_size=(2, 2)))\n",
    "model.add(Dropout(rate=0.25))\n",
    "\n",
    "model.add(Flatten())\n",
    "\n",
    "model.add(Dense(512))\n",
    "model.add(Activation('relu'))\n",
    "model.add(Dropout(rate=0.5))\n",
    "\n",
    "model.add(Dense(131))\n",
    "model.add(Activation('softmax'))\n",
    "\n",
    "model.summary()\n",
    "\n",
    "# initiate adam optimizer\n",
    "opt = tf.keras.optimizers.Adam(learning_rate=0.0001)\n",
    "\n",
    "# Let's train the model using adam\n",
    "model.compile(loss='categorical_crossentropy',\n",
    "              optimizer=opt,\n",
    "              metrics=['accuracy'])"
   ]
  },
  {
   "cell_type": "code",
   "execution_count": 17,
   "metadata": {},
   "outputs": [
    {
     "name": "stdout",
     "output_type": "stream",
     "text": [
      "Epoch 1/25\n",
      "25/25 [==============================] - 52s 2s/step - loss: 4.8548 - accuracy: 0.0128 - val_loss: 4.8344 - val_accuracy: 0.0259\n",
      "Epoch 2/25\n",
      "25/25 [==============================] - 47s 2s/step - loss: 4.7104 - accuracy: 0.0331 - val_loss: 4.6262 - val_accuracy: 0.0953\n",
      "Epoch 3/25\n",
      "25/25 [==============================] - 48s 2s/step - loss: 4.3660 - accuracy: 0.0656 - val_loss: 4.1336 - val_accuracy: 0.1466\n",
      "Epoch 4/25\n",
      "25/25 [==============================] - 49s 2s/step - loss: 3.9636 - accuracy: 0.1109 - val_loss: 3.6470 - val_accuracy: 0.2425\n",
      "Epoch 5/25\n",
      "25/25 [==============================] - 51s 2s/step - loss: 3.5209 - accuracy: 0.1722 - val_loss: 3.1311 - val_accuracy: 0.2872\n",
      "Epoch 6/25\n",
      "25/25 [==============================] - 50s 2s/step - loss: 3.1518 - accuracy: 0.2309 - val_loss: 2.6297 - val_accuracy: 0.4256\n",
      "Epoch 7/25\n",
      "25/25 [==============================] - 50s 2s/step - loss: 2.7095 - accuracy: 0.3187 - val_loss: 2.2218 - val_accuracy: 0.4809\n",
      "Epoch 8/25\n",
      "25/25 [==============================] - 55s 2s/step - loss: 2.4359 - accuracy: 0.3694 - val_loss: 1.9365 - val_accuracy: 0.5828\n",
      "Epoch 9/25\n",
      "25/25 [==============================] - 54s 2s/step - loss: 2.1374 - accuracy: 0.4369 - val_loss: 1.6018 - val_accuracy: 0.6747\n",
      "Epoch 10/25\n",
      "25/25 [==============================] - 51s 2s/step - loss: 1.8783 - accuracy: 0.4972 - val_loss: 1.3858 - val_accuracy: 0.6969\n",
      "Epoch 11/25\n",
      "25/25 [==============================] - 50s 2s/step - loss: 1.6837 - accuracy: 0.5431 - val_loss: 1.2730 - val_accuracy: 0.7116\n",
      "Epoch 12/25\n",
      "25/25 [==============================] - 50s 2s/step - loss: 1.4668 - accuracy: 0.6019 - val_loss: 1.1383 - val_accuracy: 0.7269\n",
      "Epoch 13/25\n",
      "25/25 [==============================] - 50s 2s/step - loss: 1.3254 - accuracy: 0.6303 - val_loss: 1.0480 - val_accuracy: 0.7462\n",
      "Epoch 14/25\n",
      "25/25 [==============================] - 50s 2s/step - loss: 1.1968 - accuracy: 0.6691 - val_loss: 0.8750 - val_accuracy: 0.7803\n",
      "Epoch 15/25\n",
      "25/25 [==============================] - 51s 2s/step - loss: 1.0932 - accuracy: 0.6969 - val_loss: 0.8309 - val_accuracy: 0.8003\n",
      "Epoch 16/25\n",
      "25/25 [==============================] - 51s 2s/step - loss: 0.9554 - accuracy: 0.7328 - val_loss: 0.7968 - val_accuracy: 0.7947\n",
      "Epoch 17/25\n",
      "25/25 [==============================] - 50s 2s/step - loss: 0.9045 - accuracy: 0.7472 - val_loss: 0.7290 - val_accuracy: 0.8166\n",
      "Epoch 18/25\n",
      "25/25 [==============================] - 51s 2s/step - loss: 0.8092 - accuracy: 0.7713 - val_loss: 0.6305 - val_accuracy: 0.8406\n",
      "Epoch 19/25\n",
      "25/25 [==============================] - 53s 2s/step - loss: 0.7155 - accuracy: 0.7916 - val_loss: 0.6414 - val_accuracy: 0.8344\n",
      "Epoch 20/25\n",
      "25/25 [==============================] - 56s 2s/step - loss: 0.6536 - accuracy: 0.8028 - val_loss: 0.5794 - val_accuracy: 0.8487\n",
      "Epoch 21/25\n",
      "25/25 [==============================] - 54s 2s/step - loss: 0.6333 - accuracy: 0.8087 - val_loss: 0.5410 - val_accuracy: 0.8581\n",
      "Epoch 22/25\n",
      "25/25 [==============================] - 53s 2s/step - loss: 0.6141 - accuracy: 0.8272 - val_loss: 0.5341 - val_accuracy: 0.8509\n",
      "Epoch 23/25\n",
      "25/25 [==============================] - 51s 2s/step - loss: 0.5275 - accuracy: 0.8478 - val_loss: 0.5177 - val_accuracy: 0.8603\n",
      "Epoch 24/25\n",
      "25/25 [==============================] - 50s 2s/step - loss: 0.4985 - accuracy: 0.8497 - val_loss: 0.4688 - val_accuracy: 0.8744\n",
      "Epoch 25/25\n",
      "25/25 [==============================] - 49s 2s/step - loss: 0.4661 - accuracy: 0.8606 - val_loss: 0.4419 - val_accuracy: 0.8741\n"
     ]
    }
   ],
   "source": [
    "# Model fit\n",
    "history = model.fit(\n",
    "        train_generator,\n",
    "        steps_per_epoch=25,\n",
    "        epochs=25,\n",
    "        validation_data=test_generator,\n",
    "        validation_steps=25)"
   ]
  },
  {
   "cell_type": "code",
   "execution_count": 18,
   "metadata": {},
   "outputs": [
    {
     "data": {
      "image/png": "[encoded data removed]",
      "text/plain": [
       "<Figure size 432x288 with 1 Axes>"
      ]
     },
     "metadata": {
      "needs_background": "light"
     },
     "output_type": "display_data"
    }
   ],
   "source": [
    "# Displaying the selected image\n",
    "img = load_img(\"fruits360/Training/Apple Golden 1/3_100.jpg\", target_size=(100,100))\n",
    "plt.imshow(img)\n",
    "plt.axis(\"off\")\n",
    "plt.show()\n",
    "\n",
    "# Loading the image \n",
    "def load(filename):\n",
    "    np_image = Image.open(filename)\n",
    "    np_image = np.array(np_image).astype('float32')/255\n",
    "    np_image = np.expand_dims(np_image, axis=0)\n",
    "    return np_image\n",
    "\n",
    "image = load(\"fruits360/Training/Apple Golden 1/3_100.jpg\")"
   ]
  },
  {
   "cell_type": "code",
   "execution_count": 19,
   "metadata": {},
   "outputs": [
    {
     "name": "stdout",
     "output_type": "stream",
     "text": [
      "[2]\n"
     ]
    }
   ],
   "source": [
    "# Predicting the class\n",
    "prediction = (np.argmax(model.predict(image), axis=-1))\n",
    "print(prediction)"
   ]
  },
  {
   "cell_type": "code",
   "execution_count": 20,
   "metadata": {},
   "outputs": [
    {
     "data": {
      "text/plain": [
       "{'Apple Braeburn': 0,\n",
       " 'Apple Crimson Snow': 1,\n",
       " 'Apple Golden 1': 2,\n",
       " 'Apple Golden 2': 3,\n",
       " 'Apple Golden 3': 4,\n",
       " 'Apple Granny Smith': 5,\n",
       " 'Apple Pink Lady': 6,\n",
       " 'Apple Red 1': 7,\n",
       " 'Apple Red 2': 8,\n",
       " 'Apple Red 3': 9,\n",
       " 'Apple Red Delicious': 10,\n",
       " 'Apple Red Yellow 1': 11,\n",
       " 'Apple Red Yellow 2': 12,\n",
       " 'Apricot': 13,\n",
       " 'Avocado': 14,\n",
       " 'Avocado ripe': 15,\n",
       " 'Banana': 16,\n",
       " 'Banana Lady Finger': 17,\n",
       " 'Banana Red': 18,\n",
       " 'Beetroot': 19,\n",
       " 'Blueberry': 20,\n",
       " 'Cactus fruit': 21,\n",
       " 'Cantaloupe 1': 22,\n",
       " 'Cantaloupe 2': 23,\n",
       " 'Carambula': 24,\n",
       " 'Cauliflower': 25,\n",
       " 'Cherry 1': 26,\n",
       " 'Cherry 2': 27,\n",
       " 'Cherry Rainier': 28,\n",
       " 'Cherry Wax Black': 29,\n",
       " 'Cherry Wax Red': 30,\n",
       " 'Cherry Wax Yellow': 31,\n",
       " 'Chestnut': 32,\n",
       " 'Clementine': 33,\n",
       " 'Cocos': 34,\n",
       " 'Corn': 35,\n",
       " 'Corn Husk': 36,\n",
       " 'Cucumber Ripe': 37,\n",
       " 'Cucumber Ripe 2': 38,\n",
       " 'Dates': 39,\n",
       " 'Eggplant': 40,\n",
       " 'Fig': 41,\n",
       " 'Ginger Root': 42,\n",
       " 'Granadilla': 43,\n",
       " 'Grape Blue': 44,\n",
       " 'Grape Pink': 45,\n",
       " 'Grape White': 46,\n",
       " 'Grape White 2': 47,\n",
       " 'Grape White 3': 48,\n",
       " 'Grape White 4': 49,\n",
       " 'Grapefruit Pink': 50,\n",
       " 'Grapefruit White': 51,\n",
       " 'Guava': 52,\n",
       " 'Hazelnut': 53,\n",
       " 'Huckleberry': 54,\n",
       " 'Kaki': 55,\n",
       " 'Kiwi': 56,\n",
       " 'Kohlrabi': 57,\n",
       " 'Kumquats': 58,\n",
       " 'Lemon': 59,\n",
       " 'Lemon Meyer': 60,\n",
       " 'Limes': 61,\n",
       " 'Lychee': 62,\n",
       " 'Mandarine': 63,\n",
       " 'Mango': 64,\n",
       " 'Mango Red': 65,\n",
       " 'Mangostan': 66,\n",
       " 'Maracuja': 67,\n",
       " 'Melon Piel de Sapo': 68,\n",
       " 'Mulberry': 69,\n",
       " 'Nectarine': 70,\n",
       " 'Nectarine Flat': 71,\n",
       " 'Nut Forest': 72,\n",
       " 'Nut Pecan': 73,\n",
       " 'Onion Red': 74,\n",
       " 'Onion Red Peeled': 75,\n",
       " 'Onion White': 76,\n",
       " 'Orange': 77,\n",
       " 'Papaya': 78,\n",
       " 'Passion Fruit': 79,\n",
       " 'Peach': 80,\n",
       " 'Peach 2': 81,\n",
       " 'Peach Flat': 82,\n",
       " 'Pear': 83,\n",
       " 'Pear 2': 84,\n",
       " 'Pear Abate': 85,\n",
       " 'Pear Forelle': 86,\n",
       " 'Pear Kaiser': 87,\n",
       " 'Pear Monster': 88,\n",
       " 'Pear Red': 89,\n",
       " 'Pear Stone': 90,\n",
       " 'Pear Williams': 91,\n",
       " 'Pepino': 92,\n",
       " 'Pepper Green': 93,\n",
       " 'Pepper Orange': 94,\n",
       " 'Pepper Red': 95,\n",
       " 'Pepper Yellow': 96,\n",
       " 'Physalis': 97,\n",
       " 'Physalis with Husk': 98,\n",
       " 'Pineapple': 99,\n",
       " 'Pineapple Mini': 100,\n",
       " 'Pitahaya Red': 101,\n",
       " 'Plum': 102,\n",
       " 'Plum 2': 103,\n",
       " 'Plum 3': 104,\n",
       " 'Pomegranate': 105,\n",
       " 'Pomelo Sweetie': 106,\n",
       " 'Potato Red': 107,\n",
       " 'Potato Red Washed': 108,\n",
       " 'Potato Sweet': 109,\n",
       " 'Potato White': 110,\n",
       " 'Quince': 111,\n",
       " 'Rambutan': 112,\n",
       " 'Raspberry': 113,\n",
       " 'Redcurrant': 114,\n",
       " 'Salak': 115,\n",
       " 'Strawberry': 116,\n",
       " 'Strawberry Wedge': 117,\n",
       " 'Tamarillo': 118,\n",
       " 'Tangelo': 119,\n",
       " 'Tomato 1': 120,\n",
       " 'Tomato 2': 121,\n",
       " 'Tomato 3': 122,\n",
       " 'Tomato 4': 123,\n",
       " 'Tomato Cherry Red': 124,\n",
       " 'Tomato Heart': 125,\n",
       " 'Tomato Maroon': 126,\n",
       " 'Tomato Yellow': 127,\n",
       " 'Tomato not Ripened': 128,\n",
       " 'Walnut': 129,\n",
       " 'Watermelon': 130}"
      ]
     },
     "execution_count": 20,
     "metadata": {},
     "output_type": "execute_result"
    }
   ],
   "source": [
    "# Printing class dictionary\n",
    "label_mapper = (test_generator.class_indices)\n",
    "label_mapper"
   ]
  },
  {
   "cell_type": "code",
   "execution_count": 21,
   "metadata": {},
   "outputs": [
    {
     "data": {
      "image/png": "[encoded data removed]",
      "text/plain": [
       "<Figure size 432x288 with 1 Axes>"
      ]
     },
     "metadata": {
      "needs_background": "light"
     },
     "output_type": "display_data"
    },
    {
     "data": {
      "image/png": "[encoded data removed]",
      "text/plain": [
       "<Figure size 432x288 with 1 Axes>"
      ]
     },
     "metadata": {
      "needs_background": "light"
     },
     "output_type": "display_data"
    }
   ],
   "source": [
    "# Summarize history for accuracy\n",
    "plt.plot(history.history['accuracy'], label='train')\n",
    "plt.plot(history.history['val_accuracy'], label='test')\n",
    "plt.title('model accuracy')\n",
    "plt.ylabel('accuracy')\n",
    "plt.xlabel('epoch')\n",
    "plt.legend()\n",
    "# # Save the accuracy plot\n",
    "#plt.savefig(\"CNN_model_2-acc.png\")\n",
    "plt.show() # Display  the plot\n",
    "\n",
    "# Summarize history for accuracy\n",
    "plt.plot(history.history['loss'], label='train')\n",
    "plt.plot(history.history['val_loss'], label='test')\n",
    "plt.title('model loss')\n",
    "plt.ylabel('loss')\n",
    "plt.xlabel('epoch')\n",
    "plt.legend()\n",
    "# # Save the accuracy plot\n",
    "#plt.savefig(\"CNN_model_2-acc.png\")\n",
    "plt.show() # Display  the plot"
   ]
  },
  {
   "cell_type": "markdown",
   "metadata": {},
   "source": [
    "<p>\n",
    "<strong>\n",
    "RMSProp Optimizer\n",
    "</strong>\n",
    "</p>"
   ]
  },
  {
   "cell_type": "code",
   "execution_count": 22,
   "metadata": {},
   "outputs": [
    {
     "name": "stdout",
     "output_type": "stream",
     "text": [
      "Model: \"sequential_2\"\n",
      "_________________________________________________________________\n",
      " Layer (type)                Output Shape              Param #   \n",
      "=================================================================\n",
      " conv2d_8 (Conv2D)           (None, 100, 100, 32)      896       \n",
      "                                                                 \n",
      " activation_12 (Activation)  (None, 100, 100, 32)      0         \n",
      "                                                                 \n",
      " conv2d_9 (Conv2D)           (None, 98, 98, 32)        9248      \n",
      "                                                                 \n",
      " activation_13 (Activation)  (None, 98, 98, 32)        0         \n",
      "                                                                 \n",
      " max_pooling2d_4 (MaxPooling  (None, 49, 49, 32)       0         \n",
      " 2D)                                                             \n",
      "                                                                 \n",
      " dropout_6 (Dropout)         (None, 49, 49, 32)        0         \n",
      "                                                                 \n",
      " conv2d_10 (Conv2D)          (None, 49, 49, 64)        18496     \n",
      "                                                                 \n",
      " activation_14 (Activation)  (None, 49, 49, 64)        0         \n",
      "                                                                 \n",
      " conv2d_11 (Conv2D)          (None, 47, 47, 64)        36928     \n",
      "                                                                 \n",
      " activation_15 (Activation)  (None, 47, 47, 64)        0         \n",
      "                                                                 \n",
      " max_pooling2d_5 (MaxPooling  (None, 23, 23, 64)       0         \n",
      " 2D)                                                             \n",
      "                                                                 \n",
      " dropout_7 (Dropout)         (None, 23, 23, 64)        0         \n",
      "                                                                 \n",
      " flatten_2 (Flatten)         (None, 33856)             0         \n",
      "                                                                 \n",
      " dense_4 (Dense)             (None, 512)               17334784  \n",
      "                                                                 \n",
      " activation_16 (Activation)  (None, 512)               0         \n",
      "                                                                 \n",
      " dropout_8 (Dropout)         (None, 512)               0         \n",
      "                                                                 \n",
      " dense_5 (Dense)             (None, 131)               67203     \n",
      "                                                                 \n",
      " activation_17 (Activation)  (None, 131)               0         \n",
      "                                                                 \n",
      "=================================================================\n",
      "Total params: 17,467,555\n",
      "Trainable params: 17,467,555\n",
      "Non-trainable params: 0\n",
      "_________________________________________________________________\n"
     ]
    }
   ],
   "source": [
    "# Model Architecture\n",
    "model = Sequential()\n",
    "\n",
    "model.add(Conv2D(32, (3, 3), padding='same', input_shape=(100,100,3)))\n",
    "model.add(Activation('relu'))\n",
    "\n",
    "model.add(Conv2D(32, (3, 3)))\n",
    "model.add(Activation('relu'))\n",
    "\n",
    "model.add(MaxPooling2D(pool_size=(2, 2)))\n",
    "model.add(Dropout(rate=0.25))\n",
    "\n",
    "model.add(Conv2D(64, (3, 3), padding='same'))\n",
    "model.add(Activation('relu'))\n",
    "\n",
    "model.add(Conv2D(64, (3, 3)))\n",
    "model.add(Activation('relu'))\n",
    "\n",
    "model.add(MaxPooling2D(pool_size=(2, 2)))\n",
    "model.add(Dropout(rate=0.25))\n",
    "\n",
    "model.add(Flatten())\n",
    "\n",
    "model.add(Dense(512))\n",
    "model.add(Activation('relu'))\n",
    "model.add(Dropout(rate=0.5))\n",
    "\n",
    "model.add(Dense(131))\n",
    "model.add(Activation('softmax'))\n",
    "\n",
    "model.summary()\n",
    "\n",
    "# Let's train the model using RMSprop\n",
    "model.compile(loss='categorical_crossentropy',\n",
    "              optimizer='rmsprop',\n",
    "              metrics=['accuracy'])"
   ]
  },
  {
   "cell_type": "code",
   "execution_count": 23,
   "metadata": {},
   "outputs": [
    {
     "name": "stdout",
     "output_type": "stream",
     "text": [
      "Epoch 1/25\n",
      "25/25 [==============================] - 52s 2s/step - loss: 4.9689 - accuracy: 0.0309 - val_loss: 4.3157 - val_accuracy: 0.0753\n",
      "Epoch 2/25\n",
      "25/25 [==============================] - 53s 2s/step - loss: 4.0402 - accuracy: 0.1103 - val_loss: 3.5169 - val_accuracy: 0.1550\n",
      "Epoch 3/25\n",
      "25/25 [==============================] - 51s 2s/step - loss: 2.9408 - accuracy: 0.2739 - val_loss: 2.1196 - val_accuracy: 0.5122\n",
      "Epoch 4/25\n",
      "25/25 [==============================] - 51s 2s/step - loss: 2.0563 - accuracy: 0.4603 - val_loss: 1.5893 - val_accuracy: 0.6187\n",
      "Epoch 5/25\n",
      "25/25 [==============================] - 50s 2s/step - loss: 1.6187 - accuracy: 0.5666 - val_loss: 1.1514 - val_accuracy: 0.7184\n",
      "Epoch 6/25\n",
      "25/25 [==============================] - 53s 2s/step - loss: 1.1463 - accuracy: 0.6844 - val_loss: 0.9038 - val_accuracy: 0.7672\n",
      "Epoch 7/25\n",
      "25/25 [==============================] - 56s 2s/step - loss: 0.8930 - accuracy: 0.7547 - val_loss: 0.6772 - val_accuracy: 0.8250\n",
      "Epoch 8/25\n",
      "25/25 [==============================] - 52s 2s/step - loss: 0.7011 - accuracy: 0.7978 - val_loss: 0.8715 - val_accuracy: 0.7716\n",
      "Epoch 9/25\n",
      "25/25 [==============================] - 51s 2s/step - loss: 0.5367 - accuracy: 0.8372 - val_loss: 0.5326 - val_accuracy: 0.8438\n",
      "Epoch 10/25\n",
      "25/25 [==============================] - 51s 2s/step - loss: 0.4740 - accuracy: 0.8569 - val_loss: 0.4792 - val_accuracy: 0.8600\n",
      "Epoch 11/25\n",
      "25/25 [==============================] - 51s 2s/step - loss: 0.4560 - accuracy: 0.8706 - val_loss: 0.4475 - val_accuracy: 0.8809\n",
      "Epoch 12/25\n",
      "25/25 [==============================] - 51s 2s/step - loss: 0.2726 - accuracy: 0.9097 - val_loss: 0.5224 - val_accuracy: 0.8619\n",
      "Epoch 13/25\n",
      "25/25 [==============================] - 51s 2s/step - loss: 0.2839 - accuracy: 0.9109 - val_loss: 0.3352 - val_accuracy: 0.9075\n",
      "Epoch 14/25\n",
      "25/25 [==============================] - 53s 2s/step - loss: 0.3040 - accuracy: 0.9144 - val_loss: 0.3537 - val_accuracy: 0.9116\n",
      "Epoch 15/25\n",
      "25/25 [==============================] - 53s 2s/step - loss: 0.2093 - accuracy: 0.9394 - val_loss: 0.4200 - val_accuracy: 0.8997\n",
      "Epoch 16/25\n",
      "25/25 [==============================] - 51s 2s/step - loss: 0.2907 - accuracy: 0.9259 - val_loss: 0.3625 - val_accuracy: 0.9219\n",
      "Epoch 17/25\n",
      "25/25 [==============================] - 52s 2s/step - loss: 0.1586 - accuracy: 0.9519 - val_loss: 0.3830 - val_accuracy: 0.9003\n",
      "Epoch 18/25\n",
      "25/25 [==============================] - 63s 3s/step - loss: 0.2521 - accuracy: 0.9300 - val_loss: 0.3546 - val_accuracy: 0.9234\n",
      "Epoch 19/25\n",
      "25/25 [==============================] - 52s 2s/step - loss: 0.1861 - accuracy: 0.9475 - val_loss: 0.3720 - val_accuracy: 0.9184\n",
      "Epoch 20/25\n",
      "25/25 [==============================] - 50s 2s/step - loss: 0.1095 - accuracy: 0.9653 - val_loss: 0.5723 - val_accuracy: 0.8653\n",
      "Epoch 21/25\n",
      "25/25 [==============================] - 51s 2s/step - loss: 0.1256 - accuracy: 0.9631 - val_loss: 0.3771 - val_accuracy: 0.9094\n",
      "Epoch 22/25\n",
      "25/25 [==============================] - 55s 2s/step - loss: 0.1959 - accuracy: 0.9481 - val_loss: 0.5163 - val_accuracy: 0.8838\n",
      "Epoch 23/25\n",
      "25/25 [==============================] - 53s 2s/step - loss: 0.1373 - accuracy: 0.9613 - val_loss: 0.3528 - val_accuracy: 0.9187\n",
      "Epoch 24/25\n",
      "25/25 [==============================] - 52s 2s/step - loss: 0.1836 - accuracy: 0.9481 - val_loss: 0.3292 - val_accuracy: 0.9281\n",
      "Epoch 25/25\n",
      "25/25 [==============================] - 50s 2s/step - loss: 0.0724 - accuracy: 0.9759 - val_loss: 0.3425 - val_accuracy: 0.9131\n"
     ]
    }
   ],
   "source": [
    "# Model fit\n",
    "history = model.fit(\n",
    "        train_generator,\n",
    "        steps_per_epoch=25,\n",
    "        epochs=25,\n",
    "        validation_data=test_generator,\n",
    "        validation_steps=25)"
   ]
  },
  {
   "cell_type": "code",
   "execution_count": 24,
   "metadata": {},
   "outputs": [
    {
     "data": {
      "image/png": "[encoded data removed]",
      "text/plain": [
       "<Figure size 432x288 with 1 Axes>"
      ]
     },
     "metadata": {
      "needs_background": "light"
     },
     "output_type": "display_data"
    },
    {
     "data": {
      "image/png": "[encoded data removed]",
      "text/plain": [
       "<Figure size 432x288 with 1 Axes>"
      ]
     },
     "metadata": {
      "needs_background": "light"
     },
     "output_type": "display_data"
    }
   ],
   "source": [
    "# Summarize history for accuracy\n",
    "plt.plot(history.history['accuracy'], label='train')\n",
    "plt.plot(history.history['val_accuracy'], label='test')\n",
    "plt.title('model accuracy')\n",
    "plt.ylabel('accuracy')\n",
    "plt.xlabel('epoch')\n",
    "plt.legend()\n",
    "# # Save the accuracy plot\n",
    "#plt.savefig(\"CNN_model_2-acc.png\")\n",
    "plt.show() # Display  the plot\n",
    "\n",
    "# Summarize history for accuracy\n",
    "plt.plot(history.history['loss'], label='train')\n",
    "plt.plot(history.history['val_loss'], label='test')\n",
    "plt.title('model loss')\n",
    "plt.ylabel('loss')\n",
    "plt.xlabel('epoch')\n",
    "plt.legend()\n",
    "# # Save the accuracy plot\n",
    "#plt.savefig(\"CNN_model_2-acc.png\")\n",
    "plt.show() # Display  the plot"
   ]
  },
  {
   "cell_type": "markdown",
   "metadata": {},
   "source": [
    "<p>\n",
    "<strong>\n",
    "The changes I made to the original file are as follows:\n",
    "    <ol>\n",
    "        <li>Changed the dataset(Linked above).</li>\n",
    "        <li>Changed the optimizer to 'rmsprop'.</li>\n",
    "        <li>Increased the epochs to 25.</li>\n",
    "        <li>Added the plots for loss and accuracy.</li>\n",
    "    </ol>\n",
    "<br>    \n",
    "The code needs to be modified at the following stages:\n",
    "    <ol>\n",
    "        <li>Modified the path for train and test sets.</li>\n",
    "        <li>Changed the optimzer in the layers block.</li>\n",
    "        <li>Increased epochs value when fitting the model.</li>\n",
    "        <li>Plots for loss and accuracy are added at the end scaled by epochs where fitted model is passed as input.</li>\n",
    "    </ol>\n",
    "<br>\n",
    "Interpretation:\n",
    "<br>\n",
    "In the first question, where we are predicting the category of a fruit image, there is a steady increase in accuracy for the train and test splits by epochs. There is a steady decrease in loss for the train and test splits by epochs.\n",
    "Accuracy: 68%, Classes: 25.\n",
    "    \n",
    "In the second question, where we are again predicting the category of a fruit image (A different dataset taken from kaggle), with both adam and RMSProp optimizers, there is a steep increase in accuracy for the train and test splits by epochs. There is a steep decrease in loss for the train and test splits by epochs. But the accuracy is higher with RMSProp as it converges to minima more quicker than Adam. So, the best model in this case is with the RMSProp optimizer.\n",
    "Accuracy: 87%, Classes: 131 with Adam.\n",
    "Accuracy: 91%, Classes: 131 with RMSProp.\n",
    "</strong>    \n",
    "</p>"
   ]
  }
 ],
 "metadata": {
  "kernelspec": {
   "display_name": "Python 3",
   "language": "python",
   "name": "python3"
  },
  "language_info": {
   "codemirror_mode": {
    "name": "ipython",
    "version": 3
   },
   "file_extension": ".py",
   "mimetype": "text/x-python",
   "name": "python",
   "nbconvert_exporter": "python",
   "pygments_lexer": "ipython3",
   "version": "3.8.3"
  }
 },
 "nbformat": 4,
 "nbformat_minor": 2
}
